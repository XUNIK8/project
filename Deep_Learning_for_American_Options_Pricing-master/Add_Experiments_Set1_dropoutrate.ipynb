{
 "cells": [
  {
   "cell_type": "code",
   "execution_count": 16,
   "metadata": {},
   "outputs": [
    {
     "name": "stdout",
     "output_type": "stream",
     "text": [
      "Requirement already satisfied: tensorflow==1.13.1 in d:\\anaconda_\\lib\\site-packages (1.13.1)\n",
      "Requirement already satisfied: protobuf>=3.6.1 in c:\\users\\kaiqi wu\\appdata\\roaming\\python\\python37\\site-packages (from tensorflow==1.13.1) (3.9.2)\n",
      "Requirement already satisfied: absl-py>=0.1.6 in c:\\users\\kaiqi wu\\appdata\\roaming\\python\\python37\\site-packages (from tensorflow==1.13.1) (0.8.0)\n",
      "Requirement already satisfied: six>=1.10.0 in d:\\anaconda_\\lib\\site-packages (from tensorflow==1.13.1) (1.12.0)\n",
      "Requirement already satisfied: keras-applications>=1.0.6 in c:\\users\\kaiqi wu\\appdata\\roaming\\python\\python37\\site-packages (from tensorflow==1.13.1) (1.0.8)\n",
      "Requirement already satisfied: numpy>=1.13.3 in d:\\anaconda_\\lib\\site-packages (from tensorflow==1.13.1) (1.16.5)\n",
      "Requirement already satisfied: tensorboard<1.14.0,>=1.13.0 in d:\\anaconda_\\lib\\site-packages (from tensorflow==1.13.1) (1.13.1)\n",
      "Requirement already satisfied: termcolor>=1.1.0 in c:\\users\\kaiqi wu\\appdata\\roaming\\python\\python37\\site-packages (from tensorflow==1.13.1) (1.1.0)\n",
      "Requirement already satisfied: grpcio>=1.8.6 in c:\\users\\kaiqi wu\\appdata\\roaming\\python\\python37\\site-packages (from tensorflow==1.13.1) (1.23.0)\n",
      "Requirement already satisfied: astor>=0.6.0 in c:\\users\\kaiqi wu\\appdata\\roaming\\python\\python37\\site-packages (from tensorflow==1.13.1) (0.8.0)\n",
      "Requirement already satisfied: tensorflow-estimator<1.14.0rc0,>=1.13.0 in d:\\anaconda_\\lib\\site-packages (from tensorflow==1.13.1) (1.13.0)\n",
      "Requirement already satisfied: wheel>=0.26 in d:\\anaconda_\\lib\\site-packages (from tensorflow==1.13.1) (0.33.6)\n",
      "Requirement already satisfied: gast>=0.2.0 in d:\\anaconda_\\lib\\site-packages (from tensorflow==1.13.1) (0.3.2)\n",
      "Requirement already satisfied: keras-preprocessing>=1.0.5 in c:\\users\\kaiqi wu\\appdata\\roaming\\python\\python37\\site-packages (from tensorflow==1.13.1) (1.1.0)\n",
      "Requirement already satisfied: setuptools in d:\\anaconda_\\lib\\site-packages (from protobuf>=3.6.1->tensorflow==1.13.1) (41.4.0)\n",
      "Requirement already satisfied: h5py in d:\\anaconda_\\lib\\site-packages (from keras-applications>=1.0.6->tensorflow==1.13.1) (2.9.0)\n",
      "Requirement already satisfied: werkzeug>=0.11.15 in d:\\anaconda_\\lib\\site-packages (from tensorboard<1.14.0,>=1.13.0->tensorflow==1.13.1) (0.16.0)\n",
      "Requirement already satisfied: markdown>=2.6.8 in c:\\users\\kaiqi wu\\appdata\\roaming\\python\\python37\\site-packages (from tensorboard<1.14.0,>=1.13.0->tensorflow==1.13.1) (3.1.1)\n",
      "Requirement already up-to-date: pandas in d:\\anaconda_\\lib\\site-packages (0.25.3)\n",
      "Requirement already satisfied, skipping upgrade: pytz>=2017.2 in d:\\anaconda_\\lib\\site-packages (from pandas) (2019.3)\n",
      "Requirement already satisfied, skipping upgrade: python-dateutil>=2.6.1 in d:\\anaconda_\\lib\\site-packages (from pandas) (2.8.0)\n",
      "Requirement already satisfied, skipping upgrade: numpy>=1.13.3 in d:\\anaconda_\\lib\\site-packages (from pandas) (1.16.5)\n",
      "Requirement already satisfied, skipping upgrade: six>=1.5 in d:\\anaconda_\\lib\\site-packages (from python-dateutil>=2.6.1->pandas) (1.12.0)\n"
     ]
    }
   ],
   "source": [
    "# Require: tensorflow-1.13\n",
    "!pip install tensorflow==1.13.1\n",
    "# Require: pandas-0.25+\n",
    "!pip install pandas --upgrade\n",
    "# if upgraded, please restart the kernel to let it take effect"
   ]
  },
  {
   "cell_type": "code",
   "execution_count": 17,
   "metadata": {},
   "outputs": [],
   "source": [
    "import sys\n",
    "sys.path.append('data_generation')\n",
    "sys.path.append('util')\n",
    "sys.path.append('neural_networks')\n",
    "sys.path.append('experiments')"
   ]
  },
  {
   "cell_type": "code",
   "execution_count": 18,
   "metadata": {},
   "outputs": [],
   "source": [
    "import tensorflow as tf\n",
    "from dataset_manager import DataSetManager\n",
    "from dataset import DataSetKey\n",
    "from my_enums import Pricers,Generators\n",
    "from ds_spec import DsSpecs\n",
    "from experiment_manager import ExperimentManager\n",
    "from my_config import Config\n",
    "import os"
   ]
  },
  {
   "cell_type": "code",
   "execution_count": 19,
   "metadata": {},
   "outputs": [],
   "source": [
    "best_archs = [\n",
    "    ((20,tf.nn.relu,0),(20,tf.nn.leaky_relu,0)),\n",
    "    ((20,tf.nn.relu,0.05),(20,tf.nn.leaky_relu,0.05)),\n",
    "    ((20,tf.nn.relu,0.1),(20,tf.nn.leaky_relu,0.1)),\n",
    "    ((20,tf.nn.relu,0.15),(20,tf.nn.leaky_relu,0.15)),\n",
    "    ((20,tf.nn.relu,0.2),(20,tf.nn.leaky_relu,0.2)),\n",
    "    ((20,tf.nn.relu,0.25),(20,tf.nn.leaky_relu,0.25)),\n",
    "    ((20,tf.nn.relu,0.3),(20,tf.nn.leaky_relu,0.3))\n",
    "]"
   ]
  },
  {
   "cell_type": "code",
   "execution_count": 20,
   "metadata": {},
   "outputs": [
    {
     "name": "stdout",
     "output_type": "stream",
     "text": [
      "Loading DataSetKey(Generators.Uniform, Pricers.JuZhong, Pricers.BSFormula, DsSpecs.SPEC_1_1_1) at C:\\Users\\Kaiqi Wu\\Desktop\\1229\\Final_Project\\Data\\datasets\\ds_0\n",
      "Loading DataSetKey(Generators.Uniform, Pricers.Whaley, Pricers.BSFormula, DsSpecs.SPEC_1_1_1) at C:\\Users\\Kaiqi Wu\\Desktop\\1229\\Final_Project\\Data\\datasets\\ds_1\n",
      "Loading DataSetKey(Generators.Uniform, Pricers.JuZhongWhaley, Pricers.BSFormula, DsSpecs.SPEC_1_1_1) at C:\\Users\\Kaiqi Wu\\Desktop\\1229\\Final_Project\\Data\\datasets\\ds_2\n",
      "Loading DataSetKey(Generators.Halton, Pricers.JuZhong, Pricers.BSFormula, DsSpecs.SPEC_1_1_1) at C:\\Users\\Kaiqi Wu\\Desktop\\1229\\Final_Project\\Data\\datasets\\ds_3\n",
      "Loading DataSetKey(Generators.Halton, Pricers.Whaley, Pricers.BSFormula, DsSpecs.SPEC_1_1_1) at C:\\Users\\Kaiqi Wu\\Desktop\\1229\\Final_Project\\Data\\datasets\\ds_4\n",
      "Loading DataSetKey(Generators.Halton, Pricers.JuZhongWhaley, Pricers.BSFormula, DsSpecs.SPEC_1_1_1) at C:\\Users\\Kaiqi Wu\\Desktop\\1229\\Final_Project\\Data\\datasets\\ds_5\n",
      "Loading DataSetKey(Generators.Uniform, Pricers.JuZhong, Pricers.BSFormula, DsSpecs.SPEC_2_1_1) at C:\\Users\\Kaiqi Wu\\Desktop\\1229\\Final_Project\\Data\\datasets\\ds_6\n",
      "Loading DataSetKey(Generators.Uniform, Pricers.Whaley, Pricers.BSFormula, DsSpecs.SPEC_2_1_1) at C:\\Users\\Kaiqi Wu\\Desktop\\1229\\Final_Project\\Data\\datasets\\ds_7\n",
      "Loading DataSetKey(Generators.Uniform, Pricers.JuZhongWhaley, Pricers.BSFormula, DsSpecs.SPEC_2_1_1) at C:\\Users\\Kaiqi Wu\\Desktop\\1229\\Final_Project\\Data\\datasets\\ds_8\n",
      "Loading DataSetKey(Generators.Halton, Pricers.JuZhong, Pricers.BSFormula, DsSpecs.SPEC_2_1_1) at C:\\Users\\Kaiqi Wu\\Desktop\\1229\\Final_Project\\Data\\datasets\\ds_9\n",
      "Loading DataSetKey(Generators.Halton, Pricers.Whaley, Pricers.BSFormula, DsSpecs.SPEC_2_1_1) at C:\\Users\\Kaiqi Wu\\Desktop\\1229\\Final_Project\\Data\\datasets\\ds_10\n",
      "Loading DataSetKey(Generators.Halton, Pricers.JuZhongWhaley, Pricers.BSFormula, DsSpecs.SPEC_2_1_1) at C:\\Users\\Kaiqi Wu\\Desktop\\1229\\Final_Project\\Data\\datasets\\ds_11\n",
      "Loading DataSetKey(Generators.Uniform, Pricers.JuZhong, Pricers.BSFormula, DsSpecs.SPEC_1_2_1) at C:\\Users\\Kaiqi Wu\\Desktop\\1229\\Final_Project\\Data\\datasets\\ds_12\n",
      "Loading DataSetKey(Generators.Uniform, Pricers.Whaley, Pricers.BSFormula, DsSpecs.SPEC_1_2_1) at C:\\Users\\Kaiqi Wu\\Desktop\\1229\\Final_Project\\Data\\datasets\\ds_13\n",
      "Loading DataSetKey(Generators.Uniform, Pricers.JuZhongWhaley, Pricers.BSFormula, DsSpecs.SPEC_1_2_1) at C:\\Users\\Kaiqi Wu\\Desktop\\1229\\Final_Project\\Data\\datasets\\ds_14\n",
      "Loading DataSetKey(Generators.Halton, Pricers.JuZhong, Pricers.BSFormula, DsSpecs.SPEC_1_2_1) at C:\\Users\\Kaiqi Wu\\Desktop\\1229\\Final_Project\\Data\\datasets\\ds_15\n",
      "Loading DataSetKey(Generators.Halton, Pricers.Whaley, Pricers.BSFormula, DsSpecs.SPEC_1_2_1) at C:\\Users\\Kaiqi Wu\\Desktop\\1229\\Final_Project\\Data\\datasets\\ds_16\n",
      "Loading DataSetKey(Generators.Halton, Pricers.JuZhongWhaley, Pricers.BSFormula, DsSpecs.SPEC_1_2_1) at C:\\Users\\Kaiqi Wu\\Desktop\\1229\\Final_Project\\Data\\datasets\\ds_17\n",
      "Loading DataSetKey(Generators.Uniform, Pricers.JuZhong, Pricers.BSFormula, DsSpecs.SPEC_3_3_1) at C:\\Users\\Kaiqi Wu\\Desktop\\1229\\Final_Project\\Data\\datasets\\ds_18\n",
      "Loading DataSetKey(Generators.Uniform, Pricers.Whaley, Pricers.BSFormula, DsSpecs.SPEC_3_3_1) at C:\\Users\\Kaiqi Wu\\Desktop\\1229\\Final_Project\\Data\\datasets\\ds_19\n",
      "Loading DataSetKey(Generators.Uniform, Pricers.JuZhongWhaley, Pricers.BSFormula, DsSpecs.SPEC_3_3_1) at C:\\Users\\Kaiqi Wu\\Desktop\\1229\\Final_Project\\Data\\datasets\\ds_20\n",
      "Loading DataSetKey(Generators.Halton, Pricers.JuZhong, Pricers.BSFormula, DsSpecs.SPEC_3_3_1) at C:\\Users\\Kaiqi Wu\\Desktop\\1229\\Final_Project\\Data\\datasets\\ds_21\n",
      "Loading DataSetKey(Generators.Halton, Pricers.Whaley, Pricers.BSFormula, DsSpecs.SPEC_3_3_1) at C:\\Users\\Kaiqi Wu\\Desktop\\1229\\Final_Project\\Data\\datasets\\ds_22\n",
      "Loading DataSetKey(Generators.Halton, Pricers.JuZhongWhaley, Pricers.BSFormula, DsSpecs.SPEC_3_3_1) at C:\\Users\\Kaiqi Wu\\Desktop\\1229\\Final_Project\\Data\\datasets\\ds_23\n"
     ]
    }
   ],
   "source": [
    "dsm = DataSetManager.get_default_in_mem_DSM()\n",
    "em = ExperimentManager.create_or_load(os.path.join(Config.experiments_dir,'set1droprate'),dsm)\n",
    "training_sizes = [500000]\n",
    "#training_sizes = [500000]#[25000,50000,100000,200000]\n",
    "archs = best_archs\n",
    "dskey = DataSetKey(Generators.Halton,Pricers.JuZhongWhaley,Pricers.BSFormula,DsSpecs.SPEC_3_3_1)\n",
    "learn_rate = 0.1"
   ]
  },
  {
   "cell_type": "code",
   "execution_count": 21,
   "metadata": {},
   "outputs": [],
   "source": [
    "#run all architectures\n",
    "for train_size in training_sizes:\n",
    "    for arch in archs:\n",
    "        model_key = (arch,learn_rate)\n",
    "        em.new_exp(dskey,model_key,train_size)"
   ]
  },
  {
   "cell_type": "code",
   "execution_count": 22,
   "metadata": {},
   "outputs": [
    {
     "name": "stdout",
     "output_type": "stream",
     "text": [
      "INFO:tensorflow:Restoring parameters from C:\\Users\\Kaiqi Wu\\Desktop\\1229\\Final_Project\\Experiments\\set1droprate\\exp_0\\model\\model-0\n",
      "INFO:tensorflow:Restoring parameters from C:\\Users\\Kaiqi Wu\\Desktop\\1229\\Final_Project\\Experiments\\set1droprate\\exp_1\\model\\model-0\n",
      "INFO:tensorflow:Restoring parameters from C:\\Users\\Kaiqi Wu\\Desktop\\1229\\Final_Project\\Experiments\\set1droprate\\exp_2\\model\\model-0\n",
      "INFO:tensorflow:Restoring parameters from C:\\Users\\Kaiqi Wu\\Desktop\\1229\\Final_Project\\Experiments\\set1droprate\\exp_3\\model\\model-0\n",
      "INFO:tensorflow:Restoring parameters from C:\\Users\\Kaiqi Wu\\Desktop\\1229\\Final_Project\\Experiments\\set1droprate\\exp_4\\model\\model-0\n",
      "INFO:tensorflow:Restoring parameters from C:\\Users\\Kaiqi Wu\\Desktop\\1229\\Final_Project\\Experiments\\set1droprate\\exp_5\\model\\model-0\n",
      "INFO:tensorflow:Restoring parameters from C:\\Users\\Kaiqi Wu\\Desktop\\1229\\Final_Project\\Experiments\\set1droprate\\exp_6\\model\\model-0\n"
     ]
    }
   ],
   "source": [
    "df = em.get_info_df()"
   ]
  },
  {
   "cell_type": "code",
   "execution_count": 23,
   "metadata": {},
   "outputs": [
    {
     "data": {
      "text/html": [
       "<div>\n",
       "<style scoped>\n",
       "    .dataframe tbody tr th:only-of-type {\n",
       "        vertical-align: middle;\n",
       "    }\n",
       "\n",
       "    .dataframe tbody tr th {\n",
       "        vertical-align: top;\n",
       "    }\n",
       "\n",
       "    .dataframe thead th {\n",
       "        text-align: right;\n",
       "    }\n",
       "</style>\n",
       "<table border=\"1\" class=\"dataframe\">\n",
       "  <thead>\n",
       "    <tr style=\"text-align: right;\">\n",
       "      <th></th>\n",
       "      <th>Generator</th>\n",
       "      <th>American Pricer</th>\n",
       "      <th>European Pricer</th>\n",
       "      <th>Specs</th>\n",
       "      <th>nodes</th>\n",
       "      <th>Activation Funcs</th>\n",
       "      <th>drop rates</th>\n",
       "      <th>epochs run</th>\n",
       "      <th>train_size</th>\n",
       "      <th>exp_dir</th>\n",
       "    </tr>\n",
       "  </thead>\n",
       "  <tbody>\n",
       "    <tr>\n",
       "      <th>0</th>\n",
       "      <td>Generators.Halton</td>\n",
       "      <td>Pricers.JuZhongWhaley</td>\n",
       "      <td>Pricers.BSFormula</td>\n",
       "      <td>DsSpecs.SPEC_3_3_1</td>\n",
       "      <td>[20, 20]</td>\n",
       "      <td>[relu, leaky_relu]</td>\n",
       "      <td>[0, 0]</td>\n",
       "      <td>0</td>\n",
       "      <td>500000</td>\n",
       "      <td>C:\\Users\\Kaiqi Wu\\Desktop\\1229\\Final_Project\\E...</td>\n",
       "    </tr>\n",
       "    <tr>\n",
       "      <th>1</th>\n",
       "      <td>Generators.Halton</td>\n",
       "      <td>Pricers.JuZhongWhaley</td>\n",
       "      <td>Pricers.BSFormula</td>\n",
       "      <td>DsSpecs.SPEC_3_3_1</td>\n",
       "      <td>[20, 20]</td>\n",
       "      <td>[relu, leaky_relu]</td>\n",
       "      <td>[0.05, 0.05]</td>\n",
       "      <td>0</td>\n",
       "      <td>500000</td>\n",
       "      <td>C:\\Users\\Kaiqi Wu\\Desktop\\1229\\Final_Project\\E...</td>\n",
       "    </tr>\n",
       "    <tr>\n",
       "      <th>2</th>\n",
       "      <td>Generators.Halton</td>\n",
       "      <td>Pricers.JuZhongWhaley</td>\n",
       "      <td>Pricers.BSFormula</td>\n",
       "      <td>DsSpecs.SPEC_3_3_1</td>\n",
       "      <td>[20, 20]</td>\n",
       "      <td>[relu, leaky_relu]</td>\n",
       "      <td>[0.1, 0.1]</td>\n",
       "      <td>0</td>\n",
       "      <td>500000</td>\n",
       "      <td>C:\\Users\\Kaiqi Wu\\Desktop\\1229\\Final_Project\\E...</td>\n",
       "    </tr>\n",
       "    <tr>\n",
       "      <th>3</th>\n",
       "      <td>Generators.Halton</td>\n",
       "      <td>Pricers.JuZhongWhaley</td>\n",
       "      <td>Pricers.BSFormula</td>\n",
       "      <td>DsSpecs.SPEC_3_3_1</td>\n",
       "      <td>[20, 20]</td>\n",
       "      <td>[relu, leaky_relu]</td>\n",
       "      <td>[0.15, 0.15]</td>\n",
       "      <td>0</td>\n",
       "      <td>500000</td>\n",
       "      <td>C:\\Users\\Kaiqi Wu\\Desktop\\1229\\Final_Project\\E...</td>\n",
       "    </tr>\n",
       "    <tr>\n",
       "      <th>4</th>\n",
       "      <td>Generators.Halton</td>\n",
       "      <td>Pricers.JuZhongWhaley</td>\n",
       "      <td>Pricers.BSFormula</td>\n",
       "      <td>DsSpecs.SPEC_3_3_1</td>\n",
       "      <td>[20, 20]</td>\n",
       "      <td>[relu, leaky_relu]</td>\n",
       "      <td>[0.2, 0.2]</td>\n",
       "      <td>0</td>\n",
       "      <td>500000</td>\n",
       "      <td>C:\\Users\\Kaiqi Wu\\Desktop\\1229\\Final_Project\\E...</td>\n",
       "    </tr>\n",
       "    <tr>\n",
       "      <th>5</th>\n",
       "      <td>Generators.Halton</td>\n",
       "      <td>Pricers.JuZhongWhaley</td>\n",
       "      <td>Pricers.BSFormula</td>\n",
       "      <td>DsSpecs.SPEC_3_3_1</td>\n",
       "      <td>[20, 20]</td>\n",
       "      <td>[relu, leaky_relu]</td>\n",
       "      <td>[0.25, 0.25]</td>\n",
       "      <td>0</td>\n",
       "      <td>500000</td>\n",
       "      <td>C:\\Users\\Kaiqi Wu\\Desktop\\1229\\Final_Project\\E...</td>\n",
       "    </tr>\n",
       "    <tr>\n",
       "      <th>6</th>\n",
       "      <td>Generators.Halton</td>\n",
       "      <td>Pricers.JuZhongWhaley</td>\n",
       "      <td>Pricers.BSFormula</td>\n",
       "      <td>DsSpecs.SPEC_3_3_1</td>\n",
       "      <td>[20, 20]</td>\n",
       "      <td>[relu, leaky_relu]</td>\n",
       "      <td>[0.3, 0.3]</td>\n",
       "      <td>0</td>\n",
       "      <td>500000</td>\n",
       "      <td>C:\\Users\\Kaiqi Wu\\Desktop\\1229\\Final_Project\\E...</td>\n",
       "    </tr>\n",
       "  </tbody>\n",
       "</table>\n",
       "</div>"
      ],
      "text/plain": [
       "           Generator        American Pricer    European Pricer  \\\n",
       "0  Generators.Halton  Pricers.JuZhongWhaley  Pricers.BSFormula   \n",
       "1  Generators.Halton  Pricers.JuZhongWhaley  Pricers.BSFormula   \n",
       "2  Generators.Halton  Pricers.JuZhongWhaley  Pricers.BSFormula   \n",
       "3  Generators.Halton  Pricers.JuZhongWhaley  Pricers.BSFormula   \n",
       "4  Generators.Halton  Pricers.JuZhongWhaley  Pricers.BSFormula   \n",
       "5  Generators.Halton  Pricers.JuZhongWhaley  Pricers.BSFormula   \n",
       "6  Generators.Halton  Pricers.JuZhongWhaley  Pricers.BSFormula   \n",
       "\n",
       "                Specs     nodes    Activation Funcs    drop rates  epochs run  \\\n",
       "0  DsSpecs.SPEC_3_3_1  [20, 20]  [relu, leaky_relu]        [0, 0]           0   \n",
       "1  DsSpecs.SPEC_3_3_1  [20, 20]  [relu, leaky_relu]  [0.05, 0.05]           0   \n",
       "2  DsSpecs.SPEC_3_3_1  [20, 20]  [relu, leaky_relu]    [0.1, 0.1]           0   \n",
       "3  DsSpecs.SPEC_3_3_1  [20, 20]  [relu, leaky_relu]  [0.15, 0.15]           0   \n",
       "4  DsSpecs.SPEC_3_3_1  [20, 20]  [relu, leaky_relu]    [0.2, 0.2]           0   \n",
       "5  DsSpecs.SPEC_3_3_1  [20, 20]  [relu, leaky_relu]  [0.25, 0.25]           0   \n",
       "6  DsSpecs.SPEC_3_3_1  [20, 20]  [relu, leaky_relu]    [0.3, 0.3]           0   \n",
       "\n",
       "   train_size                                            exp_dir  \n",
       "0      500000  C:\\Users\\Kaiqi Wu\\Desktop\\1229\\Final_Project\\E...  \n",
       "1      500000  C:\\Users\\Kaiqi Wu\\Desktop\\1229\\Final_Project\\E...  \n",
       "2      500000  C:\\Users\\Kaiqi Wu\\Desktop\\1229\\Final_Project\\E...  \n",
       "3      500000  C:\\Users\\Kaiqi Wu\\Desktop\\1229\\Final_Project\\E...  \n",
       "4      500000  C:\\Users\\Kaiqi Wu\\Desktop\\1229\\Final_Project\\E...  \n",
       "5      500000  C:\\Users\\Kaiqi Wu\\Desktop\\1229\\Final_Project\\E...  \n",
       "6      500000  C:\\Users\\Kaiqi Wu\\Desktop\\1229\\Final_Project\\E...  "
      ]
     },
     "execution_count": 23,
     "metadata": {},
     "output_type": "execute_result"
    }
   ],
   "source": [
    "df"
   ]
  },
  {
   "cell_type": "code",
   "execution_count": null,
   "metadata": {},
   "outputs": [],
   "source": []
  },
  {
   "cell_type": "code",
   "execution_count": null,
   "metadata": {},
   "outputs": [],
   "source": []
  }
 ],
 "metadata": {
  "kernelspec": {
   "display_name": "Python 3",
   "language": "python",
   "name": "python3"
  },
  "language_info": {
   "codemirror_mode": {
    "name": "ipython",
    "version": 3
   },
   "file_extension": ".py",
   "mimetype": "text/x-python",
   "name": "python",
   "nbconvert_exporter": "python",
   "pygments_lexer": "ipython3",
   "version": "3.6.7"
  }
 },
 "nbformat": 4,
 "nbformat_minor": 2
}
